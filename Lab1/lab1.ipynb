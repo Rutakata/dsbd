{
 "cells": [
  {
   "cell_type": "code",
   "execution_count": 1,
   "metadata": {},
   "outputs": [
    {
     "data": {
      "text/html": [
       "<div>\n",
       "<style scoped>\n",
       "    .dataframe tbody tr th:only-of-type {\n",
       "        vertical-align: middle;\n",
       "    }\n",
       "\n",
       "    .dataframe tbody tr th {\n",
       "        vertical-align: top;\n",
       "    }\n",
       "\n",
       "    .dataframe thead th {\n",
       "        text-align: right;\n",
       "    }\n",
       "</style>\n",
       "<table border=\"1\" class=\"dataframe\">\n",
       "  <thead>\n",
       "    <tr style=\"text-align: right;\">\n",
       "      <th></th>\n",
       "      <th>Age</th>\n",
       "      <th>Gender</th>\n",
       "      <th>Impressions</th>\n",
       "      <th>Clicks</th>\n",
       "      <th>Signed_In</th>\n",
       "    </tr>\n",
       "  </thead>\n",
       "  <tbody>\n",
       "    <tr>\n",
       "      <th>0</th>\n",
       "      <td>36</td>\n",
       "      <td>0</td>\n",
       "      <td>3</td>\n",
       "      <td>0</td>\n",
       "      <td>1</td>\n",
       "    </tr>\n",
       "    <tr>\n",
       "      <th>1</th>\n",
       "      <td>73</td>\n",
       "      <td>1</td>\n",
       "      <td>3</td>\n",
       "      <td>0</td>\n",
       "      <td>1</td>\n",
       "    </tr>\n",
       "    <tr>\n",
       "      <th>2</th>\n",
       "      <td>30</td>\n",
       "      <td>0</td>\n",
       "      <td>3</td>\n",
       "      <td>0</td>\n",
       "      <td>1</td>\n",
       "    </tr>\n",
       "    <tr>\n",
       "      <th>3</th>\n",
       "      <td>49</td>\n",
       "      <td>1</td>\n",
       "      <td>3</td>\n",
       "      <td>0</td>\n",
       "      <td>1</td>\n",
       "    </tr>\n",
       "    <tr>\n",
       "      <th>4</th>\n",
       "      <td>47</td>\n",
       "      <td>1</td>\n",
       "      <td>11</td>\n",
       "      <td>0</td>\n",
       "      <td>1</td>\n",
       "    </tr>\n",
       "    <tr>\n",
       "      <th>...</th>\n",
       "      <td>...</td>\n",
       "      <td>...</td>\n",
       "      <td>...</td>\n",
       "      <td>...</td>\n",
       "      <td>...</td>\n",
       "    </tr>\n",
       "    <tr>\n",
       "      <th>458436</th>\n",
       "      <td>0</td>\n",
       "      <td>0</td>\n",
       "      <td>2</td>\n",
       "      <td>0</td>\n",
       "      <td>0</td>\n",
       "    </tr>\n",
       "    <tr>\n",
       "      <th>458437</th>\n",
       "      <td>0</td>\n",
       "      <td>0</td>\n",
       "      <td>4</td>\n",
       "      <td>0</td>\n",
       "      <td>0</td>\n",
       "    </tr>\n",
       "    <tr>\n",
       "      <th>458438</th>\n",
       "      <td>72</td>\n",
       "      <td>1</td>\n",
       "      <td>5</td>\n",
       "      <td>0</td>\n",
       "      <td>1</td>\n",
       "    </tr>\n",
       "    <tr>\n",
       "      <th>458439</th>\n",
       "      <td>0</td>\n",
       "      <td>0</td>\n",
       "      <td>5</td>\n",
       "      <td>0</td>\n",
       "      <td>0</td>\n",
       "    </tr>\n",
       "    <tr>\n",
       "      <th>458440</th>\n",
       "      <td>0</td>\n",
       "      <td>0</td>\n",
       "      <td>3</td>\n",
       "      <td>0</td>\n",
       "      <td>0</td>\n",
       "    </tr>\n",
       "  </tbody>\n",
       "</table>\n",
       "<p>458441 rows × 5 columns</p>\n",
       "</div>"
      ],
      "text/plain": [
       "        Age  Gender  Impressions  Clicks  Signed_In\n",
       "0        36       0            3       0          1\n",
       "1        73       1            3       0          1\n",
       "2        30       0            3       0          1\n",
       "3        49       1            3       0          1\n",
       "4        47       1           11       0          1\n",
       "...     ...     ...          ...     ...        ...\n",
       "458436    0       0            2       0          0\n",
       "458437    0       0            4       0          0\n",
       "458438   72       1            5       0          1\n",
       "458439    0       0            5       0          0\n",
       "458440    0       0            3       0          0\n",
       "\n",
       "[458441 rows x 5 columns]"
      ]
     },
     "execution_count": 1,
     "metadata": {},
     "output_type": "execute_result"
    }
   ],
   "source": [
    "import pandas as pd\n",
    "\n",
    "data = pd.read_csv(\"dds_ch2_nyt\\\\nyt1.csv\")\n",
    "age_groups = [\"<18\", \"18-24\", \"25-34\", \"35-44\", \"45-54\", \"55-64\", \"65+\"]\n",
    "\n",
    "data\n",
    "\n"
   ]
  },
  {
   "cell_type": "code",
   "execution_count": 2,
   "metadata": {},
   "outputs": [
    {
     "data": {
      "text/plain": [
       "<AxesSubplot:>"
      ]
     },
     "execution_count": 2,
     "metadata": {},
     "output_type": "execute_result"
    },
    {
     "data": {
      "image/png": "[encoded data removed]",
      "text/plain": [
       "<Figure size 432x288 with 1 Axes>"
      ]
     },
     "metadata": {
      "needs_background": "light"
     },
     "output_type": "display_data"
    }
   ],
   "source": [
    "data_no_null_age = data[data.Age > 0]\n",
    "\n",
    "data_no_null_age.Age.hist()"
   ]
  },
  {
   "cell_type": "code",
   "execution_count": 3,
   "metadata": {},
   "outputs": [
    {
     "name": "stderr",
     "output_type": "stream",
     "text": [
      "<ipython-input-3-ef807857fbf0>:17: SettingWithCopyWarning: \n",
      "A value is trying to be set on a copy of a slice from a DataFrame.\n",
      "Try using .loc[row_indexer,col_indexer] = value instead\n",
      "\n",
      "See the caveats in the documentation: https://pandas.pydata.org/pandas-docs/stable/user_guide/indexing.html#returning-a-view-versus-a-copy\n",
      "  data_no_null_age[\"AgeGroup\"] = data_no_null_age.Age.apply(lambda x: setAgeGroup(x))\n"
     ]
    },
    {
     "data": {
      "text/html": [
       "<div>\n",
       "<style scoped>\n",
       "    .dataframe tbody tr th:only-of-type {\n",
       "        vertical-align: middle;\n",
       "    }\n",
       "\n",
       "    .dataframe tbody tr th {\n",
       "        vertical-align: top;\n",
       "    }\n",
       "\n",
       "    .dataframe thead th {\n",
       "        text-align: right;\n",
       "    }\n",
       "</style>\n",
       "<table border=\"1\" class=\"dataframe\">\n",
       "  <thead>\n",
       "    <tr style=\"text-align: right;\">\n",
       "      <th></th>\n",
       "      <th>Age</th>\n",
       "      <th>Gender</th>\n",
       "      <th>Impressions</th>\n",
       "      <th>Clicks</th>\n",
       "      <th>Signed_In</th>\n",
       "      <th>AgeGroup</th>\n",
       "    </tr>\n",
       "  </thead>\n",
       "  <tbody>\n",
       "    <tr>\n",
       "      <th>0</th>\n",
       "      <td>36</td>\n",
       "      <td>0</td>\n",
       "      <td>3</td>\n",
       "      <td>0</td>\n",
       "      <td>1</td>\n",
       "      <td>35-44</td>\n",
       "    </tr>\n",
       "    <tr>\n",
       "      <th>1</th>\n",
       "      <td>73</td>\n",
       "      <td>1</td>\n",
       "      <td>3</td>\n",
       "      <td>0</td>\n",
       "      <td>1</td>\n",
       "      <td>65+</td>\n",
       "    </tr>\n",
       "    <tr>\n",
       "      <th>2</th>\n",
       "      <td>30</td>\n",
       "      <td>0</td>\n",
       "      <td>3</td>\n",
       "      <td>0</td>\n",
       "      <td>1</td>\n",
       "      <td>25-34</td>\n",
       "    </tr>\n",
       "    <tr>\n",
       "      <th>3</th>\n",
       "      <td>49</td>\n",
       "      <td>1</td>\n",
       "      <td>3</td>\n",
       "      <td>0</td>\n",
       "      <td>1</td>\n",
       "      <td>45-54</td>\n",
       "    </tr>\n",
       "    <tr>\n",
       "      <th>4</th>\n",
       "      <td>47</td>\n",
       "      <td>1</td>\n",
       "      <td>11</td>\n",
       "      <td>0</td>\n",
       "      <td>1</td>\n",
       "      <td>45-54</td>\n",
       "    </tr>\n",
       "    <tr>\n",
       "      <th>...</th>\n",
       "      <td>...</td>\n",
       "      <td>...</td>\n",
       "      <td>...</td>\n",
       "      <td>...</td>\n",
       "      <td>...</td>\n",
       "      <td>...</td>\n",
       "    </tr>\n",
       "    <tr>\n",
       "      <th>458432</th>\n",
       "      <td>30</td>\n",
       "      <td>0</td>\n",
       "      <td>4</td>\n",
       "      <td>0</td>\n",
       "      <td>1</td>\n",
       "      <td>25-34</td>\n",
       "    </tr>\n",
       "    <tr>\n",
       "      <th>458433</th>\n",
       "      <td>21</td>\n",
       "      <td>1</td>\n",
       "      <td>2</td>\n",
       "      <td>0</td>\n",
       "      <td>1</td>\n",
       "      <td>18-24</td>\n",
       "    </tr>\n",
       "    <tr>\n",
       "      <th>458434</th>\n",
       "      <td>61</td>\n",
       "      <td>1</td>\n",
       "      <td>6</td>\n",
       "      <td>0</td>\n",
       "      <td>1</td>\n",
       "      <td>55-64</td>\n",
       "    </tr>\n",
       "    <tr>\n",
       "      <th>458435</th>\n",
       "      <td>51</td>\n",
       "      <td>0</td>\n",
       "      <td>7</td>\n",
       "      <td>0</td>\n",
       "      <td>1</td>\n",
       "      <td>45-54</td>\n",
       "    </tr>\n",
       "    <tr>\n",
       "      <th>458438</th>\n",
       "      <td>72</td>\n",
       "      <td>1</td>\n",
       "      <td>5</td>\n",
       "      <td>0</td>\n",
       "      <td>1</td>\n",
       "      <td>65+</td>\n",
       "    </tr>\n",
       "  </tbody>\n",
       "</table>\n",
       "<p>321335 rows × 6 columns</p>\n",
       "</div>"
      ],
      "text/plain": [
       "        Age  Gender  Impressions  Clicks  Signed_In AgeGroup\n",
       "0        36       0            3       0          1    35-44\n",
       "1        73       1            3       0          1      65+\n",
       "2        30       0            3       0          1    25-34\n",
       "3        49       1            3       0          1    45-54\n",
       "4        47       1           11       0          1    45-54\n",
       "...     ...     ...          ...     ...        ...      ...\n",
       "458432   30       0            4       0          1    25-34\n",
       "458433   21       1            2       0          1    18-24\n",
       "458434   61       1            6       0          1    55-64\n",
       "458435   51       0            7       0          1    45-54\n",
       "458438   72       1            5       0          1      65+\n",
       "\n",
       "[321335 rows x 6 columns]"
      ]
     },
     "execution_count": 3,
     "metadata": {},
     "output_type": "execute_result"
    }
   ],
   "source": [
    "def setAgeGroup(age):\n",
    "    if (age < 18):\n",
    "        return \"<18\"\n",
    "    elif (age < 25):\n",
    "        return \"18-24\"\n",
    "    elif (age < 35):\n",
    "        return \"25-34\"\n",
    "    elif (age < 45):\n",
    "        return \"35-44\"\n",
    "    elif (age < 55):\n",
    "        return \"45-54\"\n",
    "    elif (age < 65):\n",
    "        return \"55-64\"\n",
    "    elif (age >= 65):\n",
    "        return \"65+\"\n",
    "\n",
    "data_no_null_age[\"AgeGroup\"] = data_no_null_age.Age.apply(lambda x: setAgeGroup(x))\n",
    "\n",
    "data_no_null_age\n",
    "    "
   ]
  },
  {
   "cell_type": "code",
   "execution_count": 4,
   "metadata": {},
   "outputs": [],
   "source": [
    "grouped_data = data_no_null_age.groupby(\"AgeGroup\")"
   ]
  },
  {
   "cell_type": "code",
   "execution_count": 5,
   "metadata": {},
   "outputs": [
    {
     "data": {
      "text/plain": [
       "<AxesSubplot:xlabel='AgeGroup'>"
      ]
     },
     "execution_count": 5,
     "metadata": {},
     "output_type": "execute_result"
    },
    {
     "data": {
      "image/png": "[encoded data removed]",
      "text/plain": [
       "<Figure size 432x288 with 1 Axes>"
      ]
     },
     "metadata": {
      "needs_background": "light"
     },
     "output_type": "display_data"
    }
   ],
   "source": [
    "def findCTR():\n",
    "    ctr_data = grouped_data[[\"Clicks\", \"Impressions\"]].mean()\n",
    "    ctr_data[\"CTR\"] = ctr_data.Clicks / ctr_data.Impressions\n",
    "    return ctr_data[\"CTR\"]\n",
    "\n",
    "ctr_data = findCTR()\n",
    "ctr_data.plot(kind=\"bar\")"
   ]
  },
  {
   "cell_type": "code",
   "execution_count": 6,
   "metadata": {},
   "outputs": [
    {
     "data": {
      "text/plain": [
       "<AxesSubplot:xlabel='Gender(0-male, 1-female)', ylabel='Count'>"
      ]
     },
     "execution_count": 6,
     "metadata": {},
     "output_type": "execute_result"
    },
    {
     "data": {
      "image/png": "[encoded data removed]",
      "text/plain": [
       "<Figure size 432x288 with 1 Axes>"
      ]
     },
     "metadata": {
      "needs_background": "light"
     },
     "output_type": "display_data"
    }
   ],
   "source": [
    "def genderComparison(age_group):\n",
    "    genders_comparison = data_no_null_age.loc[data_no_null_age[\"AgeGroup\"] == age_group]\n",
    "    genders_comparison = genders_comparison[[\"AgeGroup\", \"Gender\"]].groupby(\"Gender\").count()\n",
    "    return genders_comparison\n",
    "\n",
    "genders = []\n",
    "\n",
    "for i in range(len(age_groups)):\n",
    "    genders.append(genderComparison(age_groups[i]))\n",
    "genders[4].plot(kind='bar', xlabel=\"Gender(0-male, 1-female)\", ylabel=\"Count\")"
   ]
  },
  {
   "cell_type": "code",
   "execution_count": 7,
   "metadata": {},
   "outputs": [
    {
     "data": {
      "text/plain": [
       "<AxesSubplot:xlabel='Age Group', ylabel='Impressions mean'>"
      ]
     },
     "execution_count": 7,
     "metadata": {},
     "output_type": "execute_result"
    },
    {
     "data": {
      "image/png": "[encoded data removed]",
      "text/plain": [
       "<Figure size 432x288 with 1 Axes>"
      ]
     },
     "metadata": {
      "needs_background": "light"
     },
     "output_type": "display_data"
    }
   ],
   "source": [
    "mean_impressions = grouped_data[\"Impressions\"].mean()\n",
    "mean_impressions.plot(kind=\"bar\", xlabel=\"Age Group\", ylabel=\"Impressions mean\")"
   ]
  },
  {
   "cell_type": "code",
   "execution_count": 8,
   "metadata": {},
   "outputs": [
    {
     "data": {
      "text/plain": [
       "AgeGroup\n",
       "18-24    5.0\n",
       "25-34    5.0\n",
       "35-44    5.0\n",
       "45-54    5.0\n",
       "55-64    5.0\n",
       "65+      5.0\n",
       "<18      5.0\n",
       "Name: Impressions, dtype: float64"
      ]
     },
     "execution_count": 8,
     "metadata": {},
     "output_type": "execute_result"
    }
   ],
   "source": [
    "median_impressions = grouped_data[\"Impressions\"].median()\n",
    "median_impressions# .plot(kind=\"bar\", xlabel=\"Age Group\", ylabel=\"Impressions median\")"
   ]
  },
  {
   "cell_type": "code",
   "execution_count": 9,
   "metadata": {},
   "outputs": [
    {
     "data": {
      "text/plain": [
       "<AxesSubplot:xlabel='Age Group', ylabel='Impressions max'>"
      ]
     },
     "execution_count": 9,
     "metadata": {},
     "output_type": "execute_result"
    },
    {
     "data": {
      "image/png": "[encoded data removed]",
      "text/plain": [
       "<Figure size 432x288 with 1 Axes>"
      ]
     },
     "metadata": {
      "needs_background": "light"
     },
     "output_type": "display_data"
    }
   ],
   "source": [
    "# def maxImpressions(age_group):\n",
    "#     max_impressions = data_no_null_age.loc[data_no_null_age[\"AgeGroup\"] == age_group]\n",
    "#     return max_impressions[[\"AgeGroup\", \"Gender\", \"Impressions\"]].groupby(\"Gender\").Impressions.max()\n",
    "\n",
    "# maxDF = pd.DataFrame()\n",
    "\n",
    "# for i in range(len(age_groups)):\n",
    "#     maxDF = medianDF.append(maxImpressions(age_groups[i]), ignore_index=True)\n",
    "\n",
    "# maxDF.plot(kind=\"bar\", xlabel=\"Age Group\", ylabel=\"Impressions max\")\n",
    "\n",
    "max_impressions = grouped_data[\"Impressions\"].max()\n",
    "max_impressions.plot(kind=\"bar\", xlabel=\"Age Group\", ylabel=\"Impressions max\")"
   ]
  },
  {
   "cell_type": "code",
   "execution_count": 10,
   "metadata": {},
   "outputs": [
    {
     "data": {
      "text/plain": [
       "<AxesSubplot:xlabel='Age Group', ylabel='Impressions dispersion'>"
      ]
     },
     "execution_count": 10,
     "metadata": {},
     "output_type": "execute_result"
    },
    {
     "data": {
      "image/png": "[encoded data removed]",
      "text/plain": [
       "<Figure size 432x288 with 1 Axes>"
      ]
     },
     "metadata": {
      "needs_background": "light"
     },
     "output_type": "display_data"
    }
   ],
   "source": [
    "disp_impressions = grouped_data[\"Impressions\"].std()\n",
    "disp_impressions.plot(kind=\"bar\", xlabel=\"Age Group\", ylabel=\"Impressions dispersion\")"
   ]
  },
  {
   "cell_type": "code",
   "execution_count": 11,
   "metadata": {},
   "outputs": [
    {
     "data": {
      "text/html": [
       "<div>\n",
       "<style scoped>\n",
       "    .dataframe tbody tr th:only-of-type {\n",
       "        vertical-align: middle;\n",
       "    }\n",
       "\n",
       "    .dataframe tbody tr th {\n",
       "        vertical-align: top;\n",
       "    }\n",
       "\n",
       "    .dataframe thead th {\n",
       "        text-align: right;\n",
       "    }\n",
       "</style>\n",
       "<table border=\"1\" class=\"dataframe\">\n",
       "  <thead>\n",
       "    <tr style=\"text-align: right;\">\n",
       "      <th></th>\n",
       "      <th>Impressions</th>\n",
       "      <th>Median Impressions</th>\n",
       "      <th>Max Impressions</th>\n",
       "      <th>Dispersion Impressions</th>\n",
       "    </tr>\n",
       "    <tr>\n",
       "      <th>AgeGroup</th>\n",
       "      <th></th>\n",
       "      <th></th>\n",
       "      <th></th>\n",
       "      <th></th>\n",
       "    </tr>\n",
       "  </thead>\n",
       "  <tbody>\n",
       "    <tr>\n",
       "      <th>18-24</th>\n",
       "      <td>5.002826</td>\n",
       "      <td>5.0</td>\n",
       "      <td>17</td>\n",
       "      <td>2.244950</td>\n",
       "    </tr>\n",
       "    <tr>\n",
       "      <th>25-34</th>\n",
       "      <td>4.993829</td>\n",
       "      <td>5.0</td>\n",
       "      <td>17</td>\n",
       "      <td>2.226877</td>\n",
       "    </tr>\n",
       "    <tr>\n",
       "      <th>35-44</th>\n",
       "      <td>5.021507</td>\n",
       "      <td>5.0</td>\n",
       "      <td>20</td>\n",
       "      <td>2.237829</td>\n",
       "    </tr>\n",
       "    <tr>\n",
       "      <th>45-54</th>\n",
       "      <td>5.010406</td>\n",
       "      <td>5.0</td>\n",
       "      <td>17</td>\n",
       "      <td>2.240790</td>\n",
       "    </tr>\n",
       "    <tr>\n",
       "      <th>55-64</th>\n",
       "      <td>5.022308</td>\n",
       "      <td>5.0</td>\n",
       "      <td>16</td>\n",
       "      <td>2.230206</td>\n",
       "    </tr>\n",
       "    <tr>\n",
       "      <th>65+</th>\n",
       "      <td>5.012347</td>\n",
       "      <td>5.0</td>\n",
       "      <td>16</td>\n",
       "      <td>2.249162</td>\n",
       "    </tr>\n",
       "    <tr>\n",
       "      <th>&lt;18</th>\n",
       "      <td>5.007159</td>\n",
       "      <td>5.0</td>\n",
       "      <td>16</td>\n",
       "      <td>2.271897</td>\n",
       "    </tr>\n",
       "  </tbody>\n",
       "</table>\n",
       "</div>"
      ],
      "text/plain": [
       "          Impressions  Median Impressions  Max Impressions  \\\n",
       "AgeGroup                                                     \n",
       "18-24        5.002826                 5.0               17   \n",
       "25-34        4.993829                 5.0               17   \n",
       "35-44        5.021507                 5.0               20   \n",
       "45-54        5.010406                 5.0               17   \n",
       "55-64        5.022308                 5.0               16   \n",
       "65+          5.012347                 5.0               16   \n",
       "<18          5.007159                 5.0               16   \n",
       "\n",
       "          Dispersion Impressions  \n",
       "AgeGroup                          \n",
       "18-24                   2.244950  \n",
       "25-34                   2.226877  \n",
       "35-44                   2.237829  \n",
       "45-54                   2.240790  \n",
       "55-64                   2.230206  \n",
       "65+                     2.249162  \n",
       "<18                     2.271897  "
      ]
     },
     "execution_count": 11,
     "metadata": {},
     "output_type": "execute_result"
    }
   ],
   "source": [
    "final_data_frame = mean_impressions.to_frame()\n",
    "final_data_frame[\"Median Impressions\"] = median_impressions\n",
    "final_data_frame[\"Max Impressions\"] = max_impressions\n",
    "final_data_frame[\"Dispersion Impressions\"] = disp_impressions\n",
    "final_data_frame"
   ]
  }
 ],
 "metadata": {
  "kernelspec": {
   "display_name": "Python 3.8.5 32-bit",
   "language": "python",
   "name": "python3"
  },
  "language_info": {
   "codemirror_mode": {
    "name": "ipython",
    "version": 3
   },
   "file_extension": ".py",
   "mimetype": "text/x-python",
   "name": "python",
   "nbconvert_exporter": "python",
   "pygments_lexer": "ipython3",
   "version": "3.8.5"
  },
  "orig_nbformat": 4,
  "vscode": {
   "interpreter": {
    "hash": "2cd125d44b379f407818a551b2f4acf63845fd420f52dffc9f40d74cdd09c7bc"
   }
  }
 },
 "nbformat": 4,
 "nbformat_minor": 2
}
